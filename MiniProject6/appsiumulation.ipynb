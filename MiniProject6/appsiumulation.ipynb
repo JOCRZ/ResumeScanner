{
 "cells": [
  {
   "cell_type": "code",
   "execution_count": 4,
   "metadata": {},
   "outputs": [],
   "source": [
    "import spacy\n",
    "from tqdm import tqdm"
   ]
  },
  {
   "cell_type": "code",
   "execution_count": 5,
   "metadata": {},
   "outputs": [],
   "source": [
    "nlp = spacy.load('./model/model-best')"
   ]
  },
  {
   "cell_type": "code",
   "execution_count": 12,
   "metadata": {},
   "outputs": [],
   "source": [
    "file_path = './data/testresume.txt'\n",
    "with open(file_path, 'r') as file:\n",
    "    text1 = file.read()\n",
    "    resume = text1.strip()\n",
    "\n"
   ]
  },
  {
   "cell_type": "code",
   "execution_count": 13,
   "metadata": {},
   "outputs": [
    {
     "name": "stdout",
     "output_type": "stream",
     "text": [
      "Alice Clark ---> Name\n",
      "Delhi ---> Location\n",
      "Microsoft ---> Companies worked at\n",
      "Software Engineer ---> Designation\n",
      "Microsoft ---> Companies worked at\n",
      "Microsoft ---> Companies worked at\n",
      "Microsoft ---> Companies worked at\n",
      "Microsoft ---> Companies worked at\n",
      "Microsoft ---> Companies worked at\n",
      "Microsoft ---> Companies worked at\n",
      "Microsoft ---> Companies worked at\n",
      "Indian Institute of Technology ---> College Name\n",
      "Mumbai ---> Location\n"
     ]
    }
   ],
   "source": [
    "doc = nlp(resume)\n",
    "\n",
    "for ent in doc.ents:\n",
    "    print(ent.text, '--->', ent.label_)"
   ]
  },
  {
   "cell_type": "code",
   "execution_count": null,
   "metadata": {},
   "outputs": [],
   "source": []
  }
 ],
 "metadata": {
  "kernelspec": {
   "display_name": "env",
   "language": "python",
   "name": "python3"
  },
  "language_info": {
   "codemirror_mode": {
    "name": "ipython",
    "version": 3
   },
   "file_extension": ".py",
   "mimetype": "text/x-python",
   "name": "python",
   "nbconvert_exporter": "python",
   "pygments_lexer": "ipython3",
   "version": "3.11.4"
  }
 },
 "nbformat": 4,
 "nbformat_minor": 2
}
