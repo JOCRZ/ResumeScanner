{
 "cells": [
  {
   "cell_type": "code",
   "execution_count": 1,
   "metadata": {},
   "outputs": [],
   "source": [
    "import spacy\n",
    "from collections import Counter"
   ]
  },
  {
   "cell_type": "code",
   "execution_count": 4,
   "metadata": {},
   "outputs": [],
   "source": [
    "with open(\"./testresume.txt\", \"r\") as file:\n",
    "    # Read the contents of the file\n",
    "    text = file.read()\n"
   ]
  },
  {
   "cell_type": "code",
   "execution_count": 6,
   "metadata": {},
   "outputs": [
    {
     "name": "stdout",
     "output_type": "stream",
     "text": [
      "Unigram Frequencies (count > 5):\n",
      "{'\\n': 36, ',': 33, '•': 7, 'and': 21, '.': 7, 'Microsoft': 8, 'the': 6}\n",
      "\n",
      "Bigram Frequencies (count > 5):\n",
      "{('\\n', '•'): 7}\n",
      "\n",
      "Trigram Frequencies (count > 5):\n",
      "{}\n"
     ]
    }
   ],
   "source": [
    "\n",
    "\n",
    "# Load English tokenizer, tagger, parser, and NER\n",
    "nlp = spacy.load(\"en_core_web_sm\")\n",
    "\n",
    "# Process the text with spaCy\n",
    "doc = nlp(text)\n",
    "\n",
    "# Initialize counters for unigrams, bigrams, and trigrams\n",
    "unigram_freq = Counter()\n",
    "bigram_freq = Counter()\n",
    "trigram_freq = Counter()\n",
    "\n",
    "# Iterate over tokens in the document\n",
    "for token in doc:\n",
    "    # Count unigrams\n",
    "    unigram_freq[token.text] += 1\n",
    "\n",
    "    # Count bigrams\n",
    "    if token.i < len(doc) - 1:\n",
    "        bigram = (token.text, doc[token.i + 1].text)\n",
    "        bigram_freq[bigram] += 1\n",
    "\n",
    "    # Count trigrams\n",
    "    if token.i < len(doc) - 2:\n",
    "        trigram = (token.text, doc[token.i + 1].text, doc[token.i + 2].text)\n",
    "        trigram_freq[trigram] += 1\n",
    "\n",
    "# Filter frequencies to only include counts higher than 5\n",
    "unigram_freq_filtered = {k: v for k, v in unigram_freq.items() if v > 5}\n",
    "bigram_freq_filtered = {k: v for k, v in bigram_freq.items() if v > 5}\n",
    "trigram_freq_filtered = {k: v for k, v in trigram_freq.items() if v > 5}\n",
    "\n",
    "# Print filtered frequencies\n",
    "print(\"Unigram Frequencies (count > 5):\")\n",
    "print(unigram_freq_filtered)\n",
    "\n",
    "print(\"\\nBigram Frequencies (count > 5):\")\n",
    "print(bigram_freq_filtered)\n",
    "\n",
    "print(\"\\nTrigram Frequencies (count > 5):\")\n",
    "print(trigram_freq_filtered)"
   ]
  },
  {
   "cell_type": "code",
   "execution_count": null,
   "metadata": {},
   "outputs": [],
   "source": []
  }
 ],
 "metadata": {
  "kernelspec": {
   "display_name": "env2",
   "language": "python",
   "name": "python3"
  },
  "language_info": {
   "codemirror_mode": {
    "name": "ipython",
    "version": 3
   },
   "file_extension": ".py",
   "mimetype": "text/x-python",
   "name": "python",
   "nbconvert_exporter": "python",
   "pygments_lexer": "ipython3",
   "version": "3.11.4"
  }
 },
 "nbformat": 4,
 "nbformat_minor": 2
}
