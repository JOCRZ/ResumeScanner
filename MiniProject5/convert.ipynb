{
 "cells": [
  {
   "cell_type": "code",
   "execution_count": 1,
   "metadata": {},
   "outputs": [
    {
     "name": "stdout",
     "output_type": "stream",
     "text": [
      "Alice Clark \n",
      "AI / Machine Learning \n",
      " \n",
      "Delhi, India Email me on Indeed \n",
      "• \n",
      "20+ years of experience in data handling, design, and development \n",
      "• \n",
      "Data Warehouse: Data analysis, star/snow flake scema data modelling and design specific to \n",
      "data warehousing and business intelligence \n",
      "• \n",
      "Database: Experience in database designing, scalability, back-up and recovery, writing and \n",
      "optimizing SQL code and Stored Procedures, creating functions, views, triggers and indexes. \n",
      "Cloud platform: Worked on Microsoft Azure cloud services like Document DB, SQL Azure, \n",
      "Stream Analytics, Event hub, Power BI, Web Job, Web App, Power BI, Azure data lake \n",
      "analytics(U-SQL) \n",
      "Willing to relocate anywhere \n",
      " \n",
      "WORK EXPERIENCE \n",
      "Software Engineer \n",
      "Microsoft – Bangalore, Karnataka \n",
      "January 2000 to Present \n",
      "1. Microsoft Rewards Live dashboards: \n",
      "Description: - Microsoft rewards is loyalty program that rewards Users for browsing and shopping \n",
      "online. Microsoft Rewards members can earn points when searching with Bing, browsing with \n",
      "Microsoft Edge and making purchases at the Xbox Store, the Windows Store and the Microsoft \n",
      "Store. Plus, user can pick up bonus points for taking daily quizzes and tours on the Microsoft \n",
      "rewards website. Rewards live dashboards gives a live picture of usage world-wide and by \n",
      "markets like US, Canada, Australia, new user registration count, top/bottom performing rewards \n",
      "offers, orders stats and weekly trends of user activities, orders and new user registrations. the \n",
      "PBI tiles gets refreshed in different frequencies starting from 5 seconds to 30 minutes. \n",
      "Technology/Tools used \n",
      " \n",
      "EDUCATION \n",
      "Indian Institute of Technology – Mumbai \n",
      "2001 \n",
      " \n",
      "SKILLS \n",
      "Machine Learning, Natural Language Processing, and Big Data Handling \n",
      " \n",
      "ADDITIONAL INFORMATION \n",
      "Professional Skills \n",
      "• Excellent analytical, problem solving, communication, knowledge transfer and interpersonal \n",
      "skills with ability to interact with individuals at all the levels \n",
      "• Quick learner and maintains cordial relationship with project manager and team members and \n",
      "good performer both in team and independent job environments \n",
      "• Positive attitude towards superiors &amp; peers \n",
      "• Supervised junior developers throughout project lifecycle and provided technical assistance \n",
      "\n"
     ]
    }
   ],
   "source": [
    "import fitz  # PyMuPDF\n",
    "\n",
    "def extract_text_from_pdf(pdf_path):\n",
    "    text = \"\"\n",
    "    # Open the PDF file\n",
    "    with fitz.open(pdf_path) as pdf_document:\n",
    "        # Iterate through each page in the PDF\n",
    "        for page_num in range(pdf_document.page_count):\n",
    "            # Get the page\n",
    "            page = pdf_document.load_page(page_num)\n",
    "            # Extract text from the page\n",
    "            text += page.get_text()\n",
    "    return text\n",
    "\n",
    "# Replace 'your_pdf_file.pdf' with the path to your PDF file\n",
    "pdf_text = extract_text_from_pdf('testresume.pdf')\n",
    "\n",
    "# Print the extracted text\n",
    "print(pdf_text)\n"
   ]
  },
  {
   "cell_type": "code",
   "execution_count": 2,
   "metadata": {},
   "outputs": [
    {
     "name": "stdout",
     "output_type": "stream",
     "text": [
      "Alice Clark\n",
      "AI / Machine Learning\n",
      "\n",
      "Delhi, India Email me on Indeed\n",
      "20+ years of experience in data handling, design, and development\n",
      "Data Warehouse: Data analysis, star/snow flake scema data modelling and design specific to data warehousing and business intelligence\n",
      "Database: Experience in database designing, scalability, back-up and recovery, writing and\n",
      "optimizing SQL code and Stored Procedures, creating functions, views, triggers and indexes. Cloud platform: Worked on Microsoft Azure cloud services like Document DB, SQL Azure, Stream Analytics, Event hub, Power BI, Web Job, Web App, Power BI, Azure data lake analytics(U-SQL)\n",
      "Willing to relocate anywhere\n",
      "\n",
      "WORK EXPERIENCE\n",
      "Software Engineer\n",
      "Microsoft – Bangalore, Karnataka\n",
      "January 2000 to Present\n",
      "1. Microsoft Rewards Live dashboards:\n",
      "Description: - Microsoft rewards is loyalty program that rewards Users for browsing and shopping\n",
      "online. Microsoft Rewards members can earn points when searching with Bing, browsing with\n",
      "Microsoft Edge and making purchases at the Xbox Store, the Windows Store and the Microsoft\n",
      "Store. Plus, user can pick up bonus points for taking daily quizzes and tours on the Microsoft\n",
      "rewards website. Rewards live dashboards gives a live picture of usage world-wide and by\n",
      "markets like US, Canada, Australia, new user registration count, top/bottom performing rewards\n",
      "offers, orders stats and weekly trends of user activities, orders and new user registrations. the\n",
      "PBI tiles gets refreshed in different frequencies starting from 5 seconds to 30 minutes.\n",
      "Technology/Tools used\n",
      "\n",
      "EDUCATION\n",
      "Indian Institute of Technology – Mumbai\n",
      "2001\n",
      "\n",
      "SKILLS\n",
      "Machine Learning, Natural Language Processing, and Big Data Handling\n",
      "\n",
      "ADDITIONAL INFORMATION\n",
      "Professional Skills\n",
      "• Excellent analytical, problem solving, communication, knowledge transfer and interpersonal\n",
      "skills with ability to interact with individuals at all the levels\n",
      "• Quick learner and maintains cordial relationship with project manager and team members and\n",
      "good performer both in team and independent job environments\n",
      "• Positive attitude towards superiors &amp; peers\n",
      "• Supervised junior developers throughout project lifecycle and provided technical assistance\n",
      "\n"
     ]
    }
   ],
   "source": [
    "from docx import Document\n",
    "\n",
    "def extract_text_from_docx(docx_path):\n",
    "    text = \"\"\n",
    "    # Open the .docx file\n",
    "    doc = Document(docx_path)\n",
    "    # Extract text from each paragraph in the document\n",
    "    for paragraph in doc.paragraphs:\n",
    "        text += paragraph.text + '\\n'\n",
    "    return text\n",
    "\n",
    "# Replace 'your_docx_file.docx' with the path to your .docx file\n",
    "docx_text = extract_text_from_docx('testresume.docx')\n",
    "\n",
    "# Print the extracted text\n",
    "print(docx_text)\n"
   ]
  },
  {
   "cell_type": "code",
   "execution_count": 3,
   "metadata": {},
   "outputs": [
    {
     "name": "stdout",
     "output_type": "stream",
     "text": [
      "Alice Clark \n",
      "AI / Machine Learning \n",
      " \n",
      "Delhi, India Email me on Indeed \n",
      "• \n",
      "20+ years of experience in data handling, design, and development \n",
      "• \n",
      "Data Warehouse: Data analysis, star/snow flake scema data modelling and design specific to \n",
      "data warehousing and business intelligence \n",
      "• \n",
      "Database: Experience in database designing, scalability, back-up and recovery, writing and \n",
      "optimizing SQL code and Stored Procedures, creating functions, views, triggers and indexes. \n",
      "Cloud platform: Worked on Microsoft Azure cloud services like Document DB, SQL Azure, \n",
      "Stream Analytics, Event hub, Power BI, Web Job, Web App, Power BI, Azure data lake \n",
      "analytics(U-SQL) \n",
      "Willing to relocate anywhere \n",
      " \n",
      "WORK EXPERIENCE \n",
      "Software Engineer \n",
      "Microsoft – Bangalore, Karnataka \n",
      "January 2000 to Present \n",
      "1. Microsoft Rewards Live dashboards: \n",
      "Description: - Microsoft rewards is loyalty program that rewards Users for browsing and shopping \n",
      "online. Microsoft Rewards members can earn points when searching with Bing, browsing with \n",
      "Microsoft Edge and making purchases at the Xbox Store, the Windows Store and the Microsoft \n",
      "Store. Plus, user can pick up bonus points for taking daily quizzes and tours on the Microsoft \n",
      "rewards website. Rewards live dashboards gives a live picture of usage world-wide and by \n",
      "markets like US, Canada, Australia, new user registration count, top/bottom performing rewards \n",
      "offers, orders stats and weekly trends of user activities, orders and new user registrations. the \n",
      "PBI tiles gets refreshed in different frequencies starting from 5 seconds to 30 minutes. \n",
      "Technology/Tools used \n",
      " \n",
      "EDUCATION \n",
      "Indian Institute of Technology – Mumbai \n",
      "2001 \n",
      " \n",
      "SKILLS \n",
      "Machine Learning, Natural Language Processing, and Big Data Handling \n",
      " \n",
      "\fADDITIONAL INFORMATION \n",
      "Professional Skills \n",
      "• Excellent analytical, problem solving, communication, knowledge transfer and interpersonal \n",
      "skills with ability to interact with individuals at all the levels \n",
      "• Quick learner and maintains cordial relationship with project manager and team members and \n",
      "good performer both in team and independent job environments \n",
      "• Positive attitude towards superiors &amp; peers \n",
      "• Supervised junior developers throughout project lifecycle and provided technical assistance \n",
      "\f\n"
     ]
    }
   ],
   "source": [
    "def load_text_from_file(file_path):\n",
    "    with open(file_path, 'r') as file:\n",
    "        text = file.read()\n",
    "    return text\n",
    "\n",
    "# Replace 'your_text_file.txt' with the path to your text file\n",
    "text = load_text_from_file('testresume.txt')\n",
    "\n",
    "# Print the loaded text\n",
    "print(text)\n"
   ]
  },
  {
   "cell_type": "code",
   "execution_count": 18,
   "metadata": {},
   "outputs": [],
   "source": [
    "import os"
   ]
  },
  {
   "cell_type": "code",
   "execution_count": 40,
   "metadata": {},
   "outputs": [],
   "source": [
    "import os\n",
    "\n",
    "def to_load_file(file):\n",
    "    def check_allowed_file_extension(file):\n",
    "        allowed_extensions = ['.pdf', '.docx', '.txt']\n",
    "        file_extension = os.path.splitext(file)[1].lower()\n",
    "        return file_extension in allowed_extensions\n",
    "\n",
    "    if check_allowed_file_extension(file):\n",
    "        file_extension = os.path.splitext(file)[1].lower()\n",
    "        if file_extension == '.pdf':\n",
    "            return extract_text_from_pdf(file)  # Assuming extract_text_from_pdf is defined elsewhere\n",
    "        elif file_extension == '.docx':\n",
    "            return extract_text_from_docx(file)  # Assuming extract_text_from_docx is defined elsewhere\n",
    "        else:\n",
    "            return load_text_from_file(file)  # Assuming load_text_from_file is defined elsewhere\n",
    "    else:\n",
    "        print(\"File extension is not allowed.\")\n"
   ]
  },
  {
   "cell_type": "code",
   "execution_count": 44,
   "metadata": {},
   "outputs": [
    {
     "name": "stdout",
     "output_type": "stream",
     "text": [
      "File extension is not allowed.\n",
      "None\n"
     ]
    }
   ],
   "source": [
    "print(to_load_file('testresume.mp4'))"
   ]
  },
  {
   "cell_type": "code",
   "execution_count": 50,
   "metadata": {},
   "outputs": [],
   "source": [
    "import os\n",
    "\n",
    "def to_load_file(file):\n",
    "    def check_allowed_file_extension(file):\n",
    "        allowed_extensions = ['.pdf', '.docx', '.txt']\n",
    "        file_extension = os.path.splitext(file)[1].lower()\n",
    "        return file_extension in allowed_extensions\n",
    "\n",
    "    if check_allowed_file_extension(file):\n",
    "        file_extension = os.path.splitext(file)[1].lower()\n",
    "        if file_extension == '.pdf':\n",
    "            return extract_text_from_pdf(file)  # Assuming extract_text_from_pdf is defined elsewhere\n",
    "        elif file_extension == '.docx':\n",
    "            return extract_text_from_docx(file)  # Assuming extract_text_from_docx is defined elsewhere\n",
    "        else:\n",
    "            return load_text_from_file(file)  # Assuming load_text_from_file is defined elsewhere\n",
    "    else:\n",
    "        raise ValueError(\"File extension is not allowed.\")\n",
    "\n",
    "# Example usage:\n",
    "try:\n",
    "    text = to_load_file('testresume.pdf')  # Replace 'your_file.exe' with the path of your file\n",
    "except ValueError as e:\n",
    "    print(e)\n"
   ]
  },
  {
   "cell_type": "code",
   "execution_count": 51,
   "metadata": {},
   "outputs": [
    {
     "data": {
      "text/plain": [
       "'Alice Clark \\nAI / Machine Learning \\n \\nDelhi, India Email me on Indeed \\n• \\n20+ years of experience in data handling, design, and development \\n• \\nData Warehouse: Data analysis, star/snow flake scema data modelling and design specific to \\ndata warehousing and business intelligence \\n• \\nDatabase: Experience in database designing, scalability, back-up and recovery, writing and \\noptimizing SQL code and Stored Procedures, creating functions, views, triggers and indexes. \\nCloud platform: Worked on Microsoft Azure cloud services like Document DB, SQL Azure, \\nStream Analytics, Event hub, Power BI, Web Job, Web App, Power BI, Azure data lake \\nanalytics(U-SQL) \\nWilling to relocate anywhere \\n \\nWORK EXPERIENCE \\nSoftware Engineer \\nMicrosoft – Bangalore, Karnataka \\nJanuary 2000 to Present \\n1. Microsoft Rewards Live dashboards: \\nDescription: - Microsoft rewards is loyalty program that rewards Users for browsing and shopping \\nonline. Microsoft Rewards members can earn points when searching with Bing, browsing with \\nMicrosoft Edge and making purchases at the Xbox Store, the Windows Store and the Microsoft \\nStore. Plus, user can pick up bonus points for taking daily quizzes and tours on the Microsoft \\nrewards website. Rewards live dashboards gives a live picture of usage world-wide and by \\nmarkets like US, Canada, Australia, new user registration count, top/bottom performing rewards \\noffers, orders stats and weekly trends of user activities, orders and new user registrations. the \\nPBI tiles gets refreshed in different frequencies starting from 5 seconds to 30 minutes. \\nTechnology/Tools used \\n \\nEDUCATION \\nIndian Institute of Technology – Mumbai \\n2001 \\n \\nSKILLS \\nMachine Learning, Natural Language Processing, and Big Data Handling \\n \\nADDITIONAL INFORMATION \\nProfessional Skills \\n• Excellent analytical, problem solving, communication, knowledge transfer and interpersonal \\nskills with ability to interact with individuals at all the levels \\n• Quick learner and maintains cordial relationship with project manager and team members and \\ngood performer both in team and independent job environments \\n• Positive attitude towards superiors &amp; peers \\n• Supervised junior developers throughout project lifecycle and provided technical assistance \\n'"
      ]
     },
     "execution_count": 51,
     "metadata": {},
     "output_type": "execute_result"
    }
   ],
   "source": []
  },
  {
   "cell_type": "code",
   "execution_count": null,
   "metadata": {},
   "outputs": [],
   "source": []
  }
 ],
 "metadata": {
  "kernelspec": {
   "display_name": "env",
   "language": "python",
   "name": "python3"
  },
  "language_info": {
   "codemirror_mode": {
    "name": "ipython",
    "version": 3
   },
   "file_extension": ".py",
   "mimetype": "text/x-python",
   "name": "python",
   "nbconvert_exporter": "python",
   "pygments_lexer": "ipython3",
   "version": "3.11.4"
  }
 },
 "nbformat": 4,
 "nbformat_minor": 2
}
